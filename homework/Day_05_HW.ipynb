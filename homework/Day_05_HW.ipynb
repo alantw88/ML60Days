{
 "cells": [
  {
   "cell_type": "code",
   "execution_count": 1,
   "metadata": {},
   "outputs": [],
   "source": [
    "import numpy as np"
   ]
  },
  {
   "cell_type": "code",
   "execution_count": 2,
   "metadata": {},
   "outputs": [],
   "source": [
    "english_score = np.array([55,89,76,65,48,70])\n",
    "math_score = np.array([60,85,60,68,np.nan,60])\n",
    "chinese_score = np.array([65,90,82,72,66,77])"
   ]
  },
  {
   "cell_type": "code",
   "execution_count": 11,
   "metadata": {},
   "outputs": [
    {
     "name": "stdout",
     "output_type": "stream",
     "text": [
      "英文平均數=67.16666666666667\n",
      "英文最大值=89\n",
      "英文最小值=48\n",
      "英文標準差=13.433995020924426\n",
      "數學平均數=66.6\n",
      "數學最大值=85.0\n",
      "數學最小值=60.0\n",
      "數學標準差=9.707728879609279\n",
      "國文平均數=75.33333333333333\n",
      "國文最大值=90\n",
      "國文最小值=65\n",
      "國文標準差=8.825468196582484\n"
     ]
    }
   ],
   "source": [
    "#1. 請計算各科成績平均、最大值、最小值、標準差，其中數學缺一筆資料可忽略?\n",
    "a1=np.nanmean(english_score)\n",
    "a2=np.nanstd(english_score)\n",
    "a3=np.nanmax(english_score)\n",
    "a4=np.nanmin(english_score)\n",
    "print(\"英文平均數=\"+format(a1))\n",
    "print(\"英文最大值=\"+format(a3))\n",
    "print(\"英文最小值=\"+format(a4))\n",
    "print(\"英文標準差=\"+format(a2))\n",
    "b1=np.nanmean(math_score)\n",
    "b2=np.nanstd(math_score)\n",
    "b3=np.nanmax(math_score)\n",
    "b4=np.nanmin(math_score)\n",
    "print(\"數學平均數=\"+format(b1))\n",
    "print(\"數學最大值=\"+format(b3))\n",
    "print(\"數學最小值=\"+format(b4))\n",
    "print(\"數學標準差=\"+format(b2))\n",
    "c1=np.nanmean(chinese_score)\n",
    "c2=np.nanstd(chinese_score)\n",
    "c3=np.nanmax(chinese_score)\n",
    "c4=np.nanmin(chinese_score)\n",
    "print(\"國文平均數=\"+format(c1))\n",
    "print(\"國文最大值=\"+format(c3))\n",
    "print(\"國文最小值=\"+format(c4))\n",
    "print(\"國文標準差=\"+format(c2))"
   ]
  },
  {
   "cell_type": "code",
   "execution_count": 12,
   "metadata": {},
   "outputs": [
    {
     "name": "stdout",
     "output_type": "stream",
     "text": [
      "數學平均數=64.66666666666667\n",
      "數學最大值=85\n",
      "數學最小值=55\n",
      "數學標準差=9.860132971832694\n"
     ]
    }
   ],
   "source": [
    "#2. 第五位同學補考數學後成績為55，請計算補考後數學成績平均、最大值、最小值、標準差?\n",
    "math_score2 = np.array([60,85,60,68,55,60])\n",
    "d1=np.nanmean(math_score2)\n",
    "d2=np.nanstd(math_score2)\n",
    "d3=np.nanmax(math_score2)\n",
    "d4=np.nanmin(math_score2)\n",
    "print(\"數學平均數=\"+format(d1))\n",
    "print(\"數學最大值=\"+format(d3))\n",
    "print(\"數學最小值=\"+format(d4))\n",
    "print(\"數學標準差=\"+format(d2))"
   ]
  },
  {
   "cell_type": "code",
   "execution_count": 21,
   "metadata": {},
   "outputs": [
    {
     "name": "stdout",
     "output_type": "stream",
     "text": [
      "英文\n"
     ]
    }
   ],
   "source": [
    "#3. 用補考後資料找出與國文成績相關係數最高的學科?\n",
    "e=np.correlate(chinese_score, math_score2)\n",
    "d=np.correlate(chinese_score, english_score)\n",
    "if e>d:\n",
    "    print(\"數學\")\n",
    "else:\n",
    "    print(\"英文\")"
   ]
  },
  {
   "cell_type": "code",
   "execution_count": null,
   "metadata": {},
   "outputs": [],
   "source": []
  }
 ],
 "metadata": {
  "kernelspec": {
   "display_name": "Python 3",
   "language": "python",
   "name": "python3"
  },
  "language_info": {
   "codemirror_mode": {
    "name": "ipython",
    "version": 3
   },
   "file_extension": ".py",
   "mimetype": "text/x-python",
   "name": "python",
   "nbconvert_exporter": "python",
   "pygments_lexer": "ipython3",
   "version": "3.8.3"
  }
 },
 "nbformat": 4,
 "nbformat_minor": 4
}
